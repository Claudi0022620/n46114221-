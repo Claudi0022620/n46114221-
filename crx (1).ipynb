{
  "nbformat": 4,
  "nbformat_minor": 0,
  "metadata": {
    "colab": {
      "provenance": [],
      "collapsed_sections": [
        "uEEl5-rAyhSO"
      ]
    },
    "kernelspec": {
      "name": "python3",
      "display_name": "Python 3"
    },
    "language_info": {
      "name": "python"
    }
  },
  "cells": [
    {
      "cell_type": "markdown",
      "source": [
        "# Machine Lerning HW1"
      ],
      "metadata": {
        "id": "tg8fKx3KTm2y"
      }
    },
    {
      "cell_type": "markdown",
      "source": [
        "## 2. Linear Classifier\n",
        "Using perceptron algorithm."
      ],
      "metadata": {
        "id": "rf_Hc9TL8jb0"
      }
    },
    {
      "cell_type": "code",
      "execution_count": null,
      "metadata": {
        "id": "5GtlDpl3XfL3"
      },
      "outputs": [],
      "source": [
        "import pandas as pd\n",
        "import numpy as np\n",
        "# read csv\n",
        "df_data = pd.read_csv('./data.csv')\n",
        "df_crx = pd.read_csv('./crx.csv')\n",
        "# print(len(df_crx))\n",
        "\n",
        "# crx\n",
        "data_x = df_crx['att3'].to_numpy()\n",
        "data_y_init = df_crx['label']\n",
        "data_y = []\n",
        "for i in range(len(data_y_init)):\n",
        "  if data_y_init[i] == '+':\n",
        "    data_y.append(1)\n",
        "  else:\n",
        "    data_y.append(-1)\n",
        "# print(data_y)"
      ]
    },
    {
      "cell_type": "code",
      "source": [
        "from sklearn.preprocessing import LabelEncoder\n",
        "from sklearn.model_selection import train_test_split\n",
        "\n",
        "train_x, test_x, train_y, test_y = train_test_split(data_x, data_y, test_size = 0.2, random_state = 487)"
      ],
      "metadata": {
        "id": "Qiehe2cZbcUI"
      },
      "execution_count": null,
      "outputs": []
    },
    {
      "cell_type": "code",
      "source": [
        "w, b = 0, 0\n",
        "for i in range(len(train_x)):\n",
        "  x, y = train_x[i], train_y[i]\n",
        "  tmp = y * (w * x + b)\n",
        "  if(tmp <= 0):\n",
        "    w = w + y * x\n",
        "    b = b + y\n",
        "    # print(w,b)\n",
        "print(f'f(x) = {w} * x + ({b})')\n",
        "\n",
        "#\n",
        "pred_y = []\n",
        "for i in range(len(test_x)):\n",
        "  tmp = w * test_x[i] + b\n",
        "  if tmp > 0:\n",
        "    pred_y.append(1)\n",
        "  else:\n",
        "    pred_y.append(-1)\n",
        "# print(pred_y)"
      ],
      "metadata": {
        "colab": {
          "base_uri": "https://localhost:8080/"
        },
        "id": "7jDwCg0prNZt",
        "outputId": "9aecdf7b-a7af-4c9f-d144-5209eaf4589c"
      },
      "execution_count": null,
      "outputs": [
        {
          "output_type": "stream",
          "name": "stdout",
          "text": [
            "f(x) = -7.915000000000003 * x + (-6)\n"
          ]
        }
      ]
    },
    {
      "cell_type": "code",
      "source": [
        "from sklearn.metrics import accuracy_score\n",
        "print(f'{accuracy_score(test_y, pred_y)*100} %')"
      ],
      "metadata": {
        "colab": {
          "base_uri": "https://localhost:8080/"
        },
        "id": "sM9ZkCufwAjf",
        "outputId": "a6e88760-e667-4738-8b5d-410485cda2e0"
      },
      "execution_count": null,
      "outputs": [
        {
          "output_type": "stream",
          "name": "stdout",
          "text": [
            "59.42028985507246 %\n"
          ]
        }
      ]
    },
    {
      "cell_type": "markdown",
      "source": [
        "## 3. Least-Square Method "
      ],
      "metadata": {
        "id": "5SZnsWm9TBCn"
      }
    },
    {
      "cell_type": "code",
      "source": [
        "from scipy.optimize import curve_fit\n",
        "\n",
        "def func(train_data, w, b):\n",
        "  result = w * train_data + b\n",
        "  return result\n",
        "train_x_1 = train_x.flatten()\n",
        "alpha = curve_fit(func, xdata = train_x_1, ydata = train_y)[0]\n",
        "\n",
        "w_1, b_1 = alpha[0], alpha[1]\n",
        "print(f'f(x) = {w_1} * x + ({b_1})')"
      ],
      "metadata": {
        "id": "AsCI1YerTgAT",
        "colab": {
          "base_uri": "https://localhost:8080/"
        },
        "outputId": "73e1e0a7-b644-449d-e2ff-eae5d311355f"
      },
      "execution_count": null,
      "outputs": [
        {
          "output_type": "stream",
          "name": "stdout",
          "text": [
            "f(x) = 0.0367180710490741 * x + (-0.2611757258831575)\n"
          ]
        }
      ]
    },
    {
      "cell_type": "code",
      "source": [
        "pred_y = []\n",
        "for i in range(len(test_x)):\n",
        "  tmp = w_1 * test_x[i] + b_1\n",
        "  if tmp > 0:\n",
        "    pred_y.append(1)\n",
        "  else:\n",
        "    pred_y.append(-1)\n",
        "\n",
        "print(f'{accuracy_score(test_y, pred_y)*100} %')"
      ],
      "metadata": {
        "colab": {
          "base_uri": "https://localhost:8080/"
        },
        "id": "2oZuVLzyilSH",
        "outputId": "61995c63-83e8-4248-db8e-f663e39a92f4"
      },
      "execution_count": null,
      "outputs": [
        {
          "output_type": "stream",
          "name": "stdout",
          "text": [
            "67.3913043478261 %\n"
          ]
        }
      ]
    },
    {
      "cell_type": "markdown",
      "source": [
        "## 4. Voted Perceptron Algorithm\n"
      ],
      "metadata": {
        "id": "Nw9YUgQw8yCw"
      }
    },
    {
      "cell_type": "code",
      "source": [
        "from tqdm import tqdm\n",
        "def vote_perceptron(train_x, train_y, epoch_num):\n",
        "  w = b = 0\n",
        "  time_alive = 1\n",
        "  perceptrons = []\n",
        "  for _ in (range(epoch_num)):\n",
        "    for i in range(len(train_x)):\n",
        "      x = train_x[i]\n",
        "      y = train_y[i]\n",
        "      if y * (w * x + b) <= 0:\n",
        "        # w,b store\n",
        "        perceptrons.append([w, b, time_alive])\n",
        "        time_alive = 1\n",
        "        w = w + y * x\n",
        "        b = b + y\n",
        "      else:\n",
        "        time_alive += 1\n",
        "    perceptrons.append([w, b, time_alive])\n",
        "  # print(len(perceptrons))\n",
        "  return perceptrons\n",
        "\n",
        "def vp_predict(perceptrons, test_data):\n",
        "  sum = 0\n",
        "  for perceptron in (perceptrons):\n",
        "    w, b, weight = perceptron[0], perceptron[1], perceptron[2]\n",
        "    sum += weight * np.sign(w * test_data + b)\n",
        "  return np.sign(sum)"
      ],
      "metadata": {
        "id": "9UtLkwYG87R3"
      },
      "execution_count": null,
      "outputs": []
    },
    {
      "cell_type": "code",
      "source": [
        "perceptrons = vote_perceptron(train_x, train_y, 70)\n",
        "pred_y = []\n",
        "for i in tqdm(range(len(test_x))):\n",
        "  pred_y.append(vp_predict(perceptrons, test_x[i]))\n",
        "\n",
        "print(f'\\n{accuracy_score(test_y, pred_y)*100} %')"
      ],
      "metadata": {
        "colab": {
          "base_uri": "https://localhost:8080/"
        },
        "id": "RNppDslGSMyQ",
        "outputId": "0b6c4fc9-f483-4877-b4af-d99364a9f405"
      },
      "execution_count": null,
      "outputs": [
        {
          "output_type": "stream",
          "name": "stderr",
          "text": [
            "100%|██████████| 138/138 [00:05<00:00, 24.50it/s]"
          ]
        },
        {
          "output_type": "stream",
          "name": "stdout",
          "text": [
            "\n",
            "61.59420289855072 %\n"
          ]
        },
        {
          "output_type": "stream",
          "name": "stderr",
          "text": [
            "\n"
          ]
        }
      ]
    },
    {
      "cell_type": "markdown",
      "source": [
        "## 5. Maxing margin"
      ],
      "metadata": {
        "id": "v-tthcIT78LG"
      }
    },
    {
      "cell_type": "code",
      "source": [
        "# theshold = 60%\n",
        "judge_num = 0\n",
        "min_w = 100\n",
        "min_b = 0\n",
        "for perceptron in tqdm(perceptrons):\n",
        "  w, b = perceptron[0], perceptron[1]\n",
        "  for i in range(len(train_x)):\n",
        "    tmp = train_y[i] * (w * train_x[i] + b)\n",
        "    if(tmp > 1):\n",
        "      judge_num += 1\n",
        "\n",
        "  if(((judge_num/len(train_x)) > 0.6) and w**2 < min_w):\n",
        "    min_w, min_b = w, b\n",
        "\n",
        "print(f'\\nf(x) = {min_w} * x + ({min_b})')"
      ],
      "metadata": {
        "colab": {
          "base_uri": "https://localhost:8080/"
        },
        "id": "xbv02W5G8EGQ",
        "outputId": "809dc8f4-56b3-49ca-88be-9ce85f657d4d"
      },
      "execution_count": null,
      "outputs": [
        {
          "output_type": "stream",
          "name": "stderr",
          "text": [
            "100%|██████████| 19274/19274 [00:12<00:00, 1600.48it/s]"
          ]
        },
        {
          "output_type": "stream",
          "name": "stdout",
          "text": [
            "\n",
            "f(x) = -0.6249999999999991 * x + (-3)\n"
          ]
        },
        {
          "output_type": "stream",
          "name": "stderr",
          "text": [
            "\n"
          ]
        }
      ]
    },
    {
      "cell_type": "code",
      "source": [
        "pred_y = []\n",
        "for i in range(len(test_x)):\n",
        "  tmp = min_w * test_x[i] + min_b\n",
        "  if tmp > 0:\n",
        "    pred_y.append(1)\n",
        "  else:\n",
        "    pred_y.append(-1)\n",
        "\n",
        "print(f'{accuracy_score(test_y, pred_y)*100} %')"
      ],
      "metadata": {
        "id": "Ntl_gd5yE4iv",
        "colab": {
          "base_uri": "https://localhost:8080/"
        },
        "outputId": "c89037d0-7e23-4aff-efef-28b586a2291c"
      },
      "execution_count": null,
      "outputs": [
        {
          "output_type": "stream",
          "name": "stdout",
          "text": [
            "59.42028985507246 %\n"
          ]
        }
      ]
    },
    {
      "cell_type": "markdown",
      "source": [
        "## 6. Slack variables"
      ],
      "metadata": {
        "id": "UBv4E-O7MzHP"
      }
    },
    {
      "cell_type": "code",
      "source": [
        "slack_var = 0\n",
        "for i in range(len(train_x)):\n",
        "  tmp = train_y[i] * (min_w * train_x[i] + min_b)\n",
        "  if(tmp < 1):\n",
        "    slack_var += (1 - tmp)\n",
        "\n",
        "c = -(min_w**2)/slack_var\n",
        "print(c)"
      ],
      "metadata": {
        "colab": {
          "base_uri": "https://localhost:8080/"
        },
        "id": "01sDRyvqM562",
        "outputId": "f982650f-eac7-4ea2-f8a1-50260eba8c2a"
      },
      "execution_count": null,
      "outputs": [
        {
          "output_type": "stream",
          "name": "stdout",
          "text": [
            "-0.00020730991339421\n"
          ]
        }
      ]
    },
    {
      "cell_type": "markdown",
      "source": [
        "## 7. SVM"
      ],
      "metadata": {
        "id": "uEEl5-rAyhSO"
      }
    },
    {
      "cell_type": "code",
      "source": [
        "from sklearn import svm\n",
        "from sklearn.metrics import accuracy_score\n",
        "clf = svm.SVC()\n",
        "train_x = train_x.reshape(-1, 1)\n",
        "clf.fit(train_x, train_y)\n",
        "\n",
        "pred_y = clf.predict(test_x.reshape(-1, 1))\n",
        "print(f'{accuracy_score(test_y, pred_y)*100} %')"
      ],
      "metadata": {
        "id": "KDYfkmsypr84",
        "colab": {
          "base_uri": "https://localhost:8080/"
        },
        "outputId": "682d6222-f747-413c-a80e-064dcf458612"
      },
      "execution_count": null,
      "outputs": [
        {
          "output_type": "stream",
          "name": "stdout",
          "text": [
            "65.94202898550725 %\n"
          ]
        }
      ]
    },
    {
      "cell_type": "markdown",
      "source": [
        "## Draw figure"
      ],
      "metadata": {
        "id": "BXFudTatX9vE"
      }
    },
    {
      "cell_type": "code",
      "source": [
        "import matplotlib.pyplot as plt\n",
        "plt.style.use('ggplot')\n",
        "\n",
        "method = ['perceptron', 'LSM', 'VP', 'margin', 'SVM']\n",
        "scores = [59.42, 67.39, 61.59, 59.42, 65.94]\n",
        "x = np.arange(len(method))\n",
        "plt.bar(x, scores)\n",
        "plt.xticks(x, method)\n",
        "plt.xlabel('method')\n",
        "plt.ylabel('score')\n",
        "plt.title('Score figure')\n",
        "plt.show()"
      ],
      "metadata": {
        "colab": {
          "base_uri": "https://localhost:8080/",
          "height": 299
        },
        "id": "w8EDe_XmX4II",
        "outputId": "69c50e23-3ea3-4cb6-985b-90939c0fad78"
      },
      "execution_count": null,
      "outputs": [
        {
          "output_type": "display_data",
          "data": {
            "text/plain": [
              "<Figure size 432x288 with 1 Axes>"
            ],
            "image/png": "[encoded data removed]"
          },
          "metadata": {}
        }
      ]
    }
  ]
}